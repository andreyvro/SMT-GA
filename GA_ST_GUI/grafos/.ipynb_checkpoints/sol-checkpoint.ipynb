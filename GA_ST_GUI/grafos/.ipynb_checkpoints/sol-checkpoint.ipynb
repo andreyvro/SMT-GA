{
 "cells": [
  {
   "cell_type": "markdown",
   "metadata": {},
   "source": [
    "## Exporta valores das soluções ótimas:"
   ]
  },
  {
   "cell_type": "code",
   "execution_count": 1,
   "metadata": {},
   "outputs": [],
   "source": [
    "import os\n",
    "import numpy as np\n",
    "np.set_printoptions(precision=9)\n",
    "\n",
    "dirBase = os.getcwd() + \"/\"\n",
    "dirSol = dirBase + \"solucoes/\""
   ]
  },
  {
   "cell_type": "code",
   "execution_count": 2,
   "metadata": {},
   "outputs": [],
   "source": [
    "pontos = ['10','20','30','40','50','60','70','80','90','100']\n",
    "qtdPt = len(pontos)\n",
    "qtdInst = 15"
   ]
  },
  {
   "cell_type": "code",
   "execution_count": 3,
   "metadata": {},
   "outputs": [],
   "source": [
    "txtSai = '# pt, inst, smt, mst\\n'\n",
    "for pt in pontos:\n",
    "    for iInst in range(1, qtdInst + 1):\n",
    "        arq = pt + \".\" + str(iInst)\n",
    "        arqSol = dirSol + \"estein\" + arq\n",
    "        \n",
    "        # Abre arquivo de solução\n",
    "        sol = open(arqSol, 'r')\n",
    "        smt = float(sol.readline())  # smt da solução\n",
    "        mst = float(sol.readline())  # mst da solução\n",
    "        sol.close()\n",
    "        \n",
    "        # Ponto, instancia, smt e mst\n",
    "        txtSai += pt + ',' + str(iInst) + ',' + str(smt) + ',' + str(mst) + '\\n'\n",
    "        \n",
    "arqExport = 'solucoes.csv'\n",
    "arq = open(arqExport, 'w')\n",
    "arq.write(txtSai)\n",
    "arq.close()"
   ]
  },
  {
   "cell_type": "code",
   "execution_count": null,
   "metadata": {},
   "outputs": [],
   "source": []
  }
 ],
 "metadata": {
  "kernelspec": {
   "display_name": "Python 3",
   "language": "python",
   "name": "python3"
  },
  "language_info": {
   "codemirror_mode": {
    "name": "ipython",
    "version": 3
   },
   "file_extension": ".py",
   "mimetype": "text/x-python",
   "name": "python",
   "nbconvert_exporter": "python",
   "pygments_lexer": "ipython3",
   "version": "3.7.2"
  }
 },
 "nbformat": 4,
 "nbformat_minor": 2
}
