{
 "cells": [
  {
   "cell_type": "markdown",
   "metadata": {},
   "source": [
    "# <font color=green>Resultados - GA Árvore de Steiner</font>"
   ]
  },
  {
   "cell_type": "markdown",
   "metadata": {},
   "source": [
    "## Importação de dados:"
   ]
  },
  {
   "cell_type": "code",
   "execution_count": 11,
   "metadata": {},
   "outputs": [],
   "source": [
    "import os\n",
    "import numpy as np\n",
    "import matplotlib.pyplot as plt\n",
    "\n",
    "plt.rcParams['figure.figsize'] = (11,7)\n",
    "np.set_printoptions(precision=9)\n",
    "\n",
    "dirBase = os.getcwd() + \"/\"\n",
    "dirSol = dirBase + \"grafos/solucoes/\"\n",
    "#dirSaida = dirBase + \"tst1/Exp8/Prim-Adj-Rem-90-RstBest/\"\n",
    "dirSaida = dirBase + \"saida/\""
   ]
  },
  {
   "cell_type": "code",
   "execution_count": 12,
   "metadata": {},
   "outputs": [],
   "source": [
    "pontos = ['80']#'10','20','30','40','50','60','70','80','90','100']#,'250','500','1000']\n",
    "qtdPt = len(pontos)\n",
    "qtdInst = 15\n",
    "qtdTst = 30\n",
    "\n",
    "solucao = np.zeros((qtdPt, qtdInst, 2))        # Ponto, instancia, smt e mst\n",
    "teste = np.zeros((qtdPt, qtdInst, qtdTst, 2))  # Ponto, instancia, teste, smt e tempo de execução"
   ]
  },
  {
   "cell_type": "code",
   "execution_count": 13,
   "metadata": {},
   "outputs": [],
   "source": [
    "for iPt in range(qtdPt):\n",
    "    pt = pontos[iPt]\n",
    "    for iInst in range(qtdInst):\n",
    "        arq = pt + \".\" + str(iInst + 1)\n",
    "        arqSol = dirSol + \"estein\" + arq\n",
    "        \n",
    "        # Abre arquivo de solução\n",
    "        sol = open(arqSol, 'r')\n",
    "        solucao[iPt][iInst][0] = float(sol.readline())  # smt da solução\n",
    "        solucao[iPt][iInst][1] = float(sol.readline())  # mst da solução\n",
    "        sol.close()\n",
    "        \n",
    "        for iTst in range(qtdTst):\n",
    "            arqTeste = dirSaida + arq + \"_tst\" + str(iTst + 1)\n",
    "            \n",
    "            # Abre arquivo com dados do teste\n",
    "            sai = open(arqTeste, 'r')\n",
    "            sai.readline()                                      # dir do problema\n",
    "            teste[iPt][iInst][iTst][1] = float(sai.readline())  # tempo de execucao\n",
    "            sai.readline()                                      # parametros utilizados\n",
    "            teste[iPt][iInst][iTst][0] = float(sai.readline())  # smt do teste\n",
    "            sai.close()"
   ]
  },
  {
   "cell_type": "markdown",
   "metadata": {},
   "source": [
    "## Média de distância por ponto:"
   ]
  },
  {
   "cell_type": "code",
   "execution_count": 14,
   "metadata": {},
   "outputs": [
    {
     "name": "stdout",
     "output_type": "stream",
     "text": [
      "Pontos\tTeste\t\tÓtimo\t\t% Diferença\n",
      "80\t5.924113539\t5.922725505\t0.023435722\n"
     ]
    },
    {
     "data": {
      "image/png": "[encoded data removed]",
      "text/plain": [
       "<Figure size 792x504 with 1 Axes>"
      ]
     },
     "metadata": {
      "needs_background": "light"
     },
     "output_type": "display_data"
    }
   ],
   "source": [
    "# Tabela\n",
    "print (\"Pontos\\tTeste\\t\\tÓtimo\\t\\t% Diferença\")\n",
    "mediaTst = [0] * qtdPt # Gráfico Y\n",
    "mediaSol = [0] * qtdPt # Gráfico Y\n",
    "for iPt in range(qtdPt):\n",
    "    mediaTst[iPt] = teste[iPt][...][...,0].mean()   # Média do teste\n",
    "    mediaSol[iPt] = solucao[iPt][...,0].mean()      # Média da solução (ótimo)\n",
    "    dif =  mediaTst[iPt] - mediaSol[iPt]\n",
    "    reducao = (dif * 100) / mediaSol[iPt]           # Percentual de redução\n",
    "    print (pontos[iPt] + \"\\t\" + \"{:.9f}\".format(mediaTst[iPt]) + \"\\t\" + \"{:.9f}\".format(mediaSol[iPt]) + \"\\t\" + \"{:.9f}\".format(reducao))\n",
    "\n",
    "# Gráfico\n",
    "plt.scatter(pontos, mediaTst, c='red', label='Teste')\n",
    "plt.plot(pontos, mediaSol, label='Ótimo')\n",
    "plt.xlabel('Nº de Pontos')\n",
    "plt.ylabel('Distância')\n",
    "plt.title('Média de distância por ponto')\n",
    "plt.legend()\n",
    "plt.show()"
   ]
  },
  {
   "cell_type": "markdown",
   "metadata": {},
   "source": [
    "## Média de tempo por ponto:"
   ]
  },
  {
   "cell_type": "code",
   "execution_count": 15,
   "metadata": {},
   "outputs": [
    {
     "name": "stdout",
     "output_type": "stream",
     "text": [
      "Pontos\tTempo de Execução (s)\n",
      "80\t23.2\n"
     ]
    },
    {
     "data": {
      "image/png": "[encoded data removed]",
      "text/plain": [
       "<Figure size 792x504 with 1 Axes>"
      ]
     },
     "metadata": {
      "needs_background": "light"
     },
     "output_type": "display_data"
    }
   ],
   "source": [
    "# Tabela\n",
    "print (\"Pontos\\tTempo de Execução (s)\")\n",
    "mediaTstCPU = [0] * qtdPt # Gráfico Y\n",
    "for iPt in range(qtdPt):\n",
    "    mediaTstCPU[iPt] = teste[iPt][...][...,1].mean()   # Média de tempo do teste\n",
    "    print (pontos[iPt] + \"\\t\" + \"{:.1f}\".format(mediaTstCPU[iPt]))\n",
    "    \n",
    "# Gráfico\n",
    "plt.plot(pontos, mediaTstCPU, marker='o', c='green', label='Tempo de Execução')\n",
    "plt.xlabel('Nº de Pontos')\n",
    "plt.ylabel('Tempo (s)')\n",
    "plt.title('Média de tempo de execução por ponto')\n",
    "plt.legend()\n",
    "plt.show()"
   ]
  },
  {
   "cell_type": "markdown",
   "metadata": {},
   "source": [
    "## Média percentual de redução por ponto:"
   ]
  },
  {
   "cell_type": "code",
   "execution_count": 17,
   "metadata": {},
   "outputs": [
    {
     "name": "stdout",
     "output_type": "stream",
     "text": [
      "Pontos\tMáximo Tst.\tMédia Tst.\tMédia Opt.\n",
      "80\t3.03%\t\t3.02% ± 0.027\t3.04%\n"
     ]
    },
    {
     "data": {
      "image/png": "[encoded data removed]",
      "text/plain": [
       "<Figure size 792x504 with 1 Axes>"
      ]
     },
     "metadata": {
      "needs_background": "light"
     },
     "output_type": "display_data"
    },
    {
     "data": {
      "image/png": "[encoded data removed]",
      "text/plain": [
       "<Figure size 792x504 with 1 Axes>"
      ]
     },
     "metadata": {
      "needs_background": "light"
     },
     "output_type": "display_data"
    }
   ],
   "source": [
    "# Calcula % de redução\n",
    "redSolucao = np.zeros((qtdPt, qtdInst))        # Ponto, instancia, % de redução da smt da solução\n",
    "redTeste = np.zeros((qtdPt, qtdInst, qtdTst))  # Ponto, instancia, % de redução da smt do teste\n",
    "for iPt in range(qtdPt):\n",
    "    for iInst in range(qtdInst):\n",
    "        smtSol = solucao[iPt][iInst][0]        # SMT da solução\n",
    "        mstSol = solucao[iPt][iInst][1]        # MST da solução\n",
    "        redSolucao[iPt][iInst] = ((mstSol - smtSol) * 100) / mstSol   # % de redução da Solução\n",
    "        for iTst in range(qtdTst):\n",
    "            smtTeste = teste[iPt][iInst][iTst][0]        # SMT do teste\n",
    "            redTeste[iPt][iInst][iTst] = ((mstSol - smtTeste) * 100) / mstSol   # % de redução do teste\n",
    "\n",
    "# Tabela\n",
    "mediaRedTst = [0] * qtdPt # Gráfico Y\n",
    "mediaRedSol = [0] * qtdPt # Gráfico Y\n",
    "print (\"Pontos\\tMáximo Tst.\\tMédia Tst.\\tMédia Opt.\")\n",
    "for iPt in range(qtdPt):\n",
    "    mediaRedSol[iPt] = redSolucao[iPt][...].mean()\n",
    "    mediaRedTst[iPt] = redTeste[iPt][...][...].mean()\n",
    "    redMaxTst = np.zeros((qtdInst))\n",
    "    somaDesvInst = 0\n",
    "    for iInst in range(qtdInst):\n",
    "        redMaxTst[iInst] = redTeste[iPt][iInst][...].max()  # Máximo por instâncias\n",
    "        mediaInst = redTeste[iPt][iInst][...].mean()        # Média por instância\n",
    "        for iTst in range(qtdTst):\n",
    "            somaDesvInst += (redTeste[iPt][iInst][iTst] - mediaInst) ** 2\n",
    "    mediaRedMaxTst = redMaxTst.mean()\n",
    "    desvPadTst = np.sqrt(somaDesvInst / ((qtdInst - 1) * qtdInst))\n",
    "    print (pontos[iPt] + \"\\t\" + \"{:.2f}\".format(mediaRedMaxTst) + \"%\\t\\t\" + \n",
    "           \"{:.2f}\".format(mediaRedTst[iPt]) + \"% ± \"+\"{:.3f}\".format(desvPadTst) + \"\\t\" + \n",
    "           \"{:.2f}\".format(mediaRedSol[iPt]) + \"%\")\n",
    "    \n",
    "# Dados do Box\n",
    "dadosBox = []\n",
    "for iPt in range(qtdPt):\n",
    "    dadosBox.append(redTeste[iPt][...][...].flatten())\n",
    "\n",
    "# Gráfico\n",
    "#plt.scatter(pontos, mediaRedTst, c='red', label='Teste')\n",
    "plt.plot(pontos, mediaRedTst, c='green', label='Prim+Rem', marker=\"h\")\n",
    "plt.plot(pontos, mediaRedSol, label='Optimal', marker=\"D\")\n",
    "plt.xlabel('Nº of Points')\n",
    "plt.ylabel('% Reduction')\n",
    "#plt.title('Média de redução percentual por ponto')\n",
    "plt.legend()\n",
    "plt.show()\n",
    "\n",
    "# Gráfico\n",
    "plt.boxplot(dadosBox, labels=pontos)\n",
    "plt.xlabel('Nº de Pontos')\n",
    "plt.ylabel('% de Redução')\n",
    "plt.title('Média de redução percentual por ponto')\n",
    "plt.show()"
   ]
  },
  {
   "cell_type": "code",
   "execution_count": 18,
   "metadata": {},
   "outputs": [
    {
     "name": "stdout",
     "output_type": "stream",
     "text": [
      "Pontos\tInst.\tMax.\tMédia\tMédia Opt.\n",
      "----------------------------------\n",
      "80\t01\t2.89%\t2.84%\t2.89%\t<-\n",
      "80\t02\t2.76%\t2.72%\t2.76%\t<-\n",
      "80\t03\t3.00%\t2.97%\t3.00%\t<-\n",
      "80\t04\t2.15%\t2.13%\t2.15%\t<-\n",
      "80\t05\t2.21%\t2.21%\t2.21%\t<-\n",
      "80\t06\t2.86%\t2.85%\t2.86%\t<-\n",
      "80\t07\t4.35%\t4.35%\t4.41%\t<-\n",
      "80\t08\t3.56%\t3.54%\t3.56%\t<-\n",
      "80\t09\t3.88%\t3.88%\t3.88%\t\n",
      "80\t10\t2.91%\t2.91%\t2.91%\t<-\n",
      "80\t11\t2.95%\t2.88%\t2.95%\t<-\n",
      "80\t12\t2.04%\t2.04%\t2.04%\t<-\n",
      "80\t13\t3.22%\t3.22%\t3.25%\t<-\n",
      "80\t14\t3.86%\t3.85%\t3.86%\t<-\n",
      "80\t15\t2.86%\t2.86%\t2.86%\t<-\n",
      "----------------------------------\n"
     ]
    }
   ],
   "source": [
    "print (\"Pontos\\tInst.\\tMax.\\tMédia\\tMédia Opt.\\n----------------------------------\")\n",
    "for iPt in range(qtdPt):\n",
    "    for iInst in range(qtdInst):\n",
    "        mediaRedSol = redSolucao[iPt][iInst].mean()\n",
    "        mediaRedInst = redTeste[iPt][iInst][...].mean()\n",
    "        maxRedInst = redTeste[iPt][iInst][...].max()\n",
    "        atencao = \"<-\" if (mediaRedInst < mediaRedSol) else \"\"\n",
    "        print(pontos[iPt] + \"\\t\" + \"{:02d}\".format(iInst+1) + \"\\t\" + \n",
    "              \"{:.2f}\".format(maxRedInst) + \"%\\t\" + \n",
    "              \"{:.2f}\".format(mediaRedInst) + \"%\\t\" + \n",
    "              \"{:.2f}\".format(mediaRedSol) + \"%\\t\" + atencao)\n",
    "    print(\"----------------------------------\")"
   ]
  },
  {
   "cell_type": "code",
   "execution_count": 20,
   "metadata": {},
   "outputs": [
    {
     "name": "stdout",
     "output_type": "stream",
     "text": [
      "Pontos\tInst.\tFitness\tSolucao\t\tDif\n",
      "----------------------------------\n",
      "80\t 1\t6.2608144\t6.2574180\t-0.0033964\n",
      "80\t 2\t5.6975881\t5.6953963\t-0.0021918\n",
      "80\t 3\t5.8745589\t5.8724801\t-0.0020788\n",
      "80\t 4\t5.6258567\t5.6241641\t-0.0016926\n",
      "80\t 5\t5.7545655\t5.7545116\t-0.0000539\n",
      "80\t 6\t6.1636574\t6.1632528\t-0.0004047\n",
      "80\t 7\t6.0344359\t6.0308500\t-0.0035860\n",
      "80\t 8\t5.9540062\t5.9528555\t-0.0011508\n",
      "80\t 9\t6.1076728\t6.1076729\t0.0000000\n",
      "80\t10\t5.7151536\t5.7147350\t-0.0004186\n",
      "80\t11\t5.7687101\t5.7648361\t-0.0038740\n",
      "80\t12\t5.6731388\t5.6731388\t-0.0000000\n",
      "80\t13\t5.9700329\t5.9683681\t-0.0016648\n",
      "80\t14\t6.1180423\t6.1178198\t-0.0002225\n",
      "80\t15\t6.1434693\t6.1433837\t-0.0000856\n"
     ]
    }
   ],
   "source": [
    "print (\"Pontos\\tInst.\\tFitness\\tSolucao\\t\\tDif\\n----------------------------------\")\n",
    "for iPt in range(qtdPt):\n",
    "    pt = pontos[iPt]\n",
    "    for iInst in range(qtdInst):\n",
    "        smtMedio = teste[iPt][iInst][...,0].mean()   # Média da SMT por instancia\n",
    "        smtSol = solucao[iPt][iInst,0]               # SMT da solução\n",
    "        print(str(pt)+'\\t'+\"{:2.0f}\".format(iInst+1)+'\\t'+\n",
    "              \"{:.7f}\".format(smtMedio)+'\\t'+\n",
    "              \"{:.7f}\".format(smtSol)+'\\t'+\n",
    "              \"{:.7f}\".format(smtSol-smtMedio))"
   ]
  },
  {
   "cell_type": "code",
   "execution_count": null,
   "metadata": {},
   "outputs": [],
   "source": []
  },
  {
   "cell_type": "code",
   "execution_count": null,
   "metadata": {},
   "outputs": [],
   "source": []
  }
 ],
 "metadata": {
  "kernelspec": {
   "display_name": "Python 3",
   "language": "python",
   "name": "python3"
  },
  "language_info": {
   "codemirror_mode": {
    "name": "ipython",
    "version": 3
   },
   "file_extension": ".py",
   "mimetype": "text/x-python",
   "name": "python",
   "nbconvert_exporter": "python",
   "pygments_lexer": "ipython3",
   "version": "3.7.2"
  }
 },
 "nbformat": 4,
 "nbformat_minor": 2
}
